{
 "cells": [
  {
   "cell_type": "markdown",
   "id": "b13311bf",
   "metadata": {},
   "source": [
    "[kloppyのサイト](https://kloppy.pysport.org/open-data/)みているときに、みつけたSkillCornerというところのトラッキングデータの中身をみてみる"
   ]
  },
  {
   "cell_type": "code",
   "execution_count": 3,
   "id": "a0f6f367",
   "metadata": {},
   "outputs": [],
   "source": [
    "from kloppy import skillcorner"
   ]
  },
  {
   "cell_type": "code",
   "execution_count": null,
   "id": "7fdbd174",
   "metadata": {},
   "outputs": [],
   "source": []
  }
 ],
 "metadata": {
  "kernelspec": {
   "display_name": "Python 3 (ipykernel)",
   "language": "python",
   "name": "python3"
  },
  "language_info": {
   "codemirror_mode": {
    "name": "ipython",
    "version": 3
   },
   "file_extension": ".py",
   "mimetype": "text/x-python",
   "name": "python",
   "nbconvert_exporter": "python",
   "pygments_lexer": "ipython3",
   "version": "3.11.4"
  }
 },
 "nbformat": 4,
 "nbformat_minor": 5
}
