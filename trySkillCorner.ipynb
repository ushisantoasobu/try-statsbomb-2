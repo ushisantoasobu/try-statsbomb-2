{
 "cells": [
  {
   "cell_type": "markdown",
   "id": "b13311bf",
   "metadata": {},
   "source": [
    "[kloppyのサイト](https://kloppy.pysport.org/open-data/)みているときに、みつけたSkillCornerというところのトラッキングデータの中身をみてみる"
   ]
  },
  {
   "cell_type": "code",
   "execution_count": 1,
   "id": "a0f6f367",
   "metadata": {
    "scrolled": false
   },
   "outputs": [],
   "source": [
    "from kloppy import skillcorner"
   ]
  },
  {
   "cell_type": "markdown",
   "id": "b7932727",
   "metadata": {},
   "source": [
    "ref: https://kloppy.pysport.org/getting-started/skillcorner/"
   ]
  },
  {
   "cell_type": "code",
   "execution_count": null,
   "id": "7fdbd174",
   "metadata": {
    "scrolled": false
   },
   "outputs": [],
   "source": [
    "dataset = skillcorner.load(\n",
    "    meta_data=\"../kloppy/kloppy/tests/files/skillcorner_match_data.json\",\n",
    "    raw_data=\"../kloppy/kloppy/tests/files/skillcorner_structured_data.json\",\n",
    "    \n",
    "    # Optional arguments\n",
    "#     sample_rate=1/10, # 1sec\n",
    "#     limit=100,\n",
    "    coordinates=\"skillcorner\",\n",
    "    include_empty_frames=False\n",
    ")"
   ]
  },
  {
   "cell_type": "code",
   "execution_count": null,
   "id": "ddaa0bd3",
   "metadata": {
    "scrolled": false
   },
   "outputs": [],
   "source": [
    "type(dataset)"
   ]
  },
  {
   "cell_type": "code",
   "execution_count": null,
   "id": "e05c1615",
   "metadata": {
    "scrolled": false
   },
   "outputs": [],
   "source": [
    "df_tracking = dataset.to_df()"
   ]
  },
  {
   "cell_type": "code",
   "execution_count": null,
   "id": "39d54e7d",
   "metadata": {
    "scrolled": false
   },
   "outputs": [],
   "source": [
    "df_tracking.shape"
   ]
  },
  {
   "cell_type": "code",
   "execution_count": null,
   "id": "f2e88b26",
   "metadata": {
    "scrolled": false
   },
   "outputs": [],
   "source": [
    "print(34783/90/60)"
   ]
  },
  {
   "cell_type": "code",
   "execution_count": null,
   "id": "7a1ac266",
   "metadata": {
    "scrolled": false
   },
   "outputs": [],
   "source": [
    "df_tracking.columns"
   ]
  },
  {
   "cell_type": "code",
   "execution_count": null,
   "id": "ba83d68e",
   "metadata": {
    "scrolled": true
   },
   "outputs": [],
   "source": [
    "df_tracking.head(5)"
   ]
  },
  {
   "cell_type": "markdown",
   "id": "ead422ea",
   "metadata": {},
   "source": [
    "↑ なんで11.2秒から？？"
   ]
  },
  {
   "cell_type": "code",
   "execution_count": null,
   "id": "59e40729",
   "metadata": {
    "scrolled": false
   },
   "outputs": [],
   "source": [
    "df_tracking.tail(5)"
   ]
  },
  {
   "cell_type": "code",
   "execution_count": null,
   "id": "0194e046",
   "metadata": {
    "scrolled": false
   },
   "outputs": [],
   "source": [
    "import pandas as pd\n",
    "pd.set_option('display.max_rows', None)"
   ]
  },
  {
   "cell_type": "code",
   "execution_count": null,
   "id": "f8a0c309",
   "metadata": {
    "scrolled": true
   },
   "outputs": [],
   "source": [
    "# df_tracking['timestamp'].head(1000)\n",
    "df_tracking['timestamp'][120:130]"
   ]
  },
  {
   "cell_type": "markdown",
   "id": "9d130569",
   "metadata": {},
   "source": [
    "↑ 一気に飛ぶときがあるな、、、ボールがアウトしているときとかはもしかして省かれている？？"
   ]
  },
  {
   "cell_type": "code",
   "execution_count": null,
   "id": "9a7936e9",
   "metadata": {
    "scrolled": false
   },
   "outputs": [],
   "source": [
    "df_tracking[120:130]"
   ]
  },
  {
   "cell_type": "code",
   "execution_count": null,
   "id": "72e4d7d8",
   "metadata": {
    "scrolled": true
   },
   "outputs": [],
   "source": [
    "# カラム調べる\n",
    "print(\"\\n\".join(df_tracking.columns.tolist()))"
   ]
  },
  {
   "cell_type": "code",
   "execution_count": null,
   "id": "58bf6931",
   "metadata": {
    "scrolled": false
   },
   "outputs": [],
   "source": [
    "home_list = []\n",
    "for data in df_tracking.columns.tolist():\n",
    "    if 'home_' in data and '_anon_' not in data:\n",
    "        home_list.append(data)\n",
    "print(len(home_list) / 4)\n",
    "print(home_list)"
   ]
  },
  {
   "cell_type": "code",
   "execution_count": null,
   "id": "c3dfd5f7",
   "metadata": {
    "scrolled": false
   },
   "outputs": [],
   "source": [
    "away_list = []\n",
    "for data in df_tracking.columns.tolist():\n",
    "    if 'away_' in data and '_anon_' not in data:\n",
    "        away_list.append(data)\n",
    "print(len(away_list) / 4)\n",
    "print(away_list)"
   ]
  },
  {
   "cell_type": "markdown",
   "id": "d512476a",
   "metadata": {},
   "source": [
    "# 特定のフレームをplotしてみる"
   ]
  },
  {
   "cell_type": "code",
   "execution_count": null,
   "id": "8f5cad1d",
   "metadata": {
    "scrolled": false
   },
   "outputs": [],
   "source": [
    "import matplotsoccer\n",
    "import matplotlib.pyplot as plt"
   ]
  },
  {
   "cell_type": "code",
   "execution_count": null,
   "id": "96bd1c63",
   "metadata": {
    "scrolled": false
   },
   "outputs": [],
   "source": [
    "se_first_frame = df_tracking.loc[0, :][df_tracking.loc[0, :].notna()]\n",
    "se_first_frame"
   ]
  },
  {
   "cell_type": "markdown",
   "id": "d5386eff",
   "metadata": {},
   "source": [
    "↑ \n",
    "https://github.com/SkillCorner/opendata#limitation\n",
    "\n",
    "> The data is limited to what is visible on the broadcast video. Not all the players are visible (thus included in the data) all the time. The broadcast show an average of 14 players out of 22 at each frame. During replays or close up views, the data is not included.\n",
    "\n",
    "StatsBombの360°データと同じ感じかな？？"
   ]
  },
  {
   "cell_type": "code",
   "execution_count": null,
   "id": "a2dadcfa",
   "metadata": {
    "scrolled": false
   },
   "outputs": [],
   "source": [
    "# import re\n",
    "\n",
    "# matplotsoccer.field(\"green\",figsize=8, show=False)\n",
    "\n",
    "# pattern = pattern = '(.+_\\d+)_.+'\n",
    "\n",
    "# pos_dic = {} # key = away_7, value = (28.816779, -0.094319) としたい\n",
    "# for i, v in se_first_frame.items():\n",
    "#     if '_x' in i:\n",
    "#         matched = re.match(pattern, i) # 例: home_4 をとる\n",
    "#         y = se_first_frame[matched.group(1) + \"_y\"]\n",
    "#         plt.scatter(v, y)\n",
    "        \n",
    "# plt.show()"
   ]
  },
  {
   "cell_type": "markdown",
   "id": "597c4955",
   "metadata": {},
   "source": [
    "matplotsoccerと特に整合性ないぽい！\n",
    "\n",
    "https://kloppy.pysport.org/examples/plotting/\n",
    "みて、別の探す（あるぽい）"
   ]
  },
  {
   "cell_type": "code",
   "execution_count": null,
   "id": "4436ccfb",
   "metadata": {
    "scrolled": false
   },
   "outputs": [],
   "source": [
    "# !pip3 install mplsoccer"
   ]
  },
  {
   "cell_type": "code",
   "execution_count": null,
   "id": "c5307f11",
   "metadata": {
    "scrolled": false
   },
   "outputs": [],
   "source": [
    "from mplsoccer.pitch import Pitch\n",
    "\n",
    "# ref: https://mplsoccer.readthedocs.io/en/latest/gallery/pitch_setup/plot_compare_pitches.html\n",
    "pitch = Pitch(pitch_color='#e7f1fa', line_zorder=1, line_color='black', pitch_length=105, pitch_width=68, pitch_type=\"skillcorner\")\n",
    "fig, ax = pitch.draw()\n",
    "\n",
    "sc = pitch.scatter([0, 20], [0, -10], ax=ax)"
   ]
  },
  {
   "cell_type": "code",
   "execution_count": null,
   "id": "1ecf55d5",
   "metadata": {
    "scrolled": false
   },
   "outputs": [],
   "source": [
    "import re\n",
    "\n",
    "# pitch = Pitch(pitch_color='#e7f1fa', line_zorder=1, line_color='black', pitch_length=105, pitch_width=68, pitch_type=\"skillcorner\")\n",
    "# fig, ax = pitch.draw()\n",
    "\n",
    "# pattern = pattern = '(.+_\\d+)_.+'\n",
    "\n",
    "# pos_dic = {} # key = away_7, value = (28.816779, -0.094319) としたい\n",
    "# for i, v in se_first_frame.items():\n",
    "#     if '_x' in i:\n",
    "#         matched = re.match(pattern, i) # 例: home_4 をとる\n",
    "#         y = se_first_frame[matched.group(1) + \"_y\"]\n",
    "#         plt.scatter(v, y)\n",
    "#         color = \"#0000FF\" if 'home_' in i else \"#00FF00\"\n",
    "#         sc = pitch.scatter(v, y, ax=ax, c=color)"
   ]
  },
  {
   "cell_type": "markdown",
   "id": "ed2ae56f",
   "metadata": {},
   "source": [
    "このフレームはボールがないからボールも描画できるようにする"
   ]
  },
  {
   "cell_type": "code",
   "execution_count": null,
   "id": "3448901e",
   "metadata": {
    "scrolled": false
   },
   "outputs": [],
   "source": [
    "ball_exists_sr = df_tracking.loc[10, :][df_tracking.loc[10, :].notna()]\n",
    "ball_exists_sr"
   ]
  },
  {
   "cell_type": "code",
   "execution_count": null,
   "id": "3986d6d1",
   "metadata": {
    "scrolled": false
   },
   "outputs": [],
   "source": [
    "def drawFrame(sr):\n",
    "    pitch = Pitch(pitch_color='#e7f1fa', line_zorder=1, line_color='black', pitch_length=105, pitch_width=68, pitch_type=\"skillcorner\")\n",
    "    fig, ax = pitch.draw(figsize=(6, 3))\n",
    "\n",
    "    pattern = '(.+)_.+' #'(.+_\\d+)_.+'\n",
    "\n",
    "    pos_dic = {} # key = away_7, value = (28.816779, -0.094319) としたい\n",
    "    for i, v in sr.items():\n",
    "        if '_x' in i:\n",
    "            matched = re.match(pattern, i) # 例: home_4 をとる\n",
    "            y = sr[matched.group(1) + \"_y\"]\n",
    "            color = \"#FF0000\" \n",
    "            if 'home_' in i:\n",
    "                color = \"#00FF00\" \n",
    "            elif 'away_' in i:\n",
    "                color = \"#0000FF\" \n",
    "            sc = pitch.scatter(v, y, ax=ax, c=color)"
   ]
  },
  {
   "cell_type": "code",
   "execution_count": null,
   "id": "a5a6f076",
   "metadata": {
    "scrolled": false
   },
   "outputs": [],
   "source": [
    "drawFrame(ball_exists_sr)"
   ]
  },
  {
   "cell_type": "code",
   "execution_count": null,
   "id": "7b8aa213",
   "metadata": {
    "scrolled": true
   },
   "outputs": [],
   "source": [
    "# for i in range(20):\n",
    "#     sr = df_tracking.loc[i, :][df_tracking.loc[i, :].notna()]\n",
    "#     drawFrame(sr)"
   ]
  },
  {
   "cell_type": "markdown",
   "id": "852d1534",
   "metadata": {},
   "source": [
    "matplotlibのアニメーションに挑戦！！！"
   ]
  },
  {
   "cell_type": "code",
   "execution_count": null,
   "id": "df38793d",
   "metadata": {
    "scrolled": true
   },
   "outputs": [],
   "source": [
    "import matplotlib.animation as animation"
   ]
  },
  {
   "cell_type": "code",
   "execution_count": null,
   "id": "3c4785ed",
   "metadata": {
    "scrolled": true
   },
   "outputs": [],
   "source": [
    "%matplotlib notebook"
   ]
  },
  {
   "cell_type": "code",
   "execution_count": null,
   "id": "9eda3888",
   "metadata": {
    "scrolled": false
   },
   "outputs": [],
   "source": [
    "# fig, ax = plt.subplots()\n",
    "\n",
    "# def hoge(frame):\n",
    "#     ax.clear()\n",
    "    \n",
    "#     # 毎回pitchを描画するしかない？？\n",
    "#     pitch = Pitch(pitch_color='#e7f1fa', line_zorder=1, line_color='black', pitch_length=105, pitch_width=68, pitch_type=\"skillcorner\")\n",
    "#     pitch.draw(ax=ax)\n",
    "    \n",
    "#     sr = df_tracking.loc[frame, :][df_tracking.loc[frame, :].notna()]\n",
    "    \n",
    "#     ###\n",
    "#     pattern = '(.+)_.+' #'(.+_\\d+)_.+'\n",
    "\n",
    "#     pos_dic = {} # key = away_7, value = (28.816779, -0.094319) としたい\n",
    "#     for i, v in sr.items():\n",
    "#         if '_x' in i:\n",
    "#             matched = re.match(pattern, i) # 例: home_4 をとる\n",
    "#             y = sr[matched.group(1) + \"_y\"]\n",
    "#             color = \"#FF0000\" \n",
    "#             if 'home_' in i:\n",
    "#                 color = \"#00FF00\" \n",
    "#             elif 'away_' in i:\n",
    "#                 color = \"#0000FF\" \n",
    "#             sc = pitch.scatter(v, y, ax=ax, c=color)\n",
    "#     ###\n",
    "    \n",
    "# ani = animation.FuncAnimation(fig, hoge, frames=range(60), interval=100, repeat=False)\n",
    "\n",
    "# plt.show()"
   ]
  },
  {
   "cell_type": "markdown",
   "id": "afbcf566",
   "metadata": {},
   "source": [
    "アニメーションしばらく流している、streamがcloseした、みたいなエラーになる。\n",
    "感覚的にはメモリが足りてない？"
   ]
  },
  {
   "cell_type": "markdown",
   "id": "fce01725",
   "metadata": {},
   "source": [
    "メモリめっちゃ使ってたDockerを終了させたらより動いた"
   ]
  },
  {
   "cell_type": "code",
   "execution_count": null,
   "id": "827c06ab",
   "metadata": {},
   "outputs": [],
   "source": [
    "fig, ax = plt.subplots()\n",
    "\n",
    "list=[] # [(x,y,c)] みたいなものを入れる配列\n",
    "\n",
    "frames = 100\n",
    "\n",
    "for i in range(frames):\n",
    "    sub_list = []\n",
    "    sr = df_tracking.loc[i, :][df_tracking.loc[i, :].notna()]\n",
    "    for i, v in sr.items():\n",
    "        if '_x' in i:\n",
    "            pattern = '(.+)_.+'\n",
    "            matched = re.match(pattern, i)\n",
    "            y = sr[matched.group(1) + \"_y\"]\n",
    "            color = \"#FF0000\" \n",
    "            if 'home_' in i:\n",
    "                color = \"#00FF00\" \n",
    "            elif 'away_' in i:\n",
    "                color = \"#0000FF\" \n",
    "            sub_list.append((v,y,color))\n",
    "    list.append(sub_list)\n",
    "    \n",
    "def hoge(frame):\n",
    "    ax.clear()\n",
    "    \n",
    "    # 毎回pitchを描画するしかない？？\n",
    "    pitch = Pitch(pitch_color='#e7f1fa', line_zorder=1, line_color='black', pitch_length=105, pitch_width=68, pitch_type=\"skillcorner\")\n",
    "    pitch.draw(ax=ax)\n",
    "\n",
    "    for sub in list[frame]:\n",
    "            sc = pitch.scatter(sub[0], sub[1], ax=ax, c=sub[2])\n",
    "    \n",
    "ani = animation.FuncAnimation(fig, hoge, frames=range(frames), interval=100, repeat=False)\n",
    "\n",
    "plt.show()"
   ]
  },
  {
   "cell_type": "code",
   "execution_count": null,
   "id": "8f102fff",
   "metadata": {},
   "outputs": [],
   "source": []
  }
 ],
 "metadata": {
  "kernelspec": {
   "display_name": "Python 3 (ipykernel)",
   "language": "python",
   "name": "python3"
  },
  "language_info": {
   "codemirror_mode": {
    "name": "ipython",
    "version": 3
   },
   "file_extension": ".py",
   "mimetype": "text/x-python",
   "name": "python",
   "nbconvert_exporter": "python",
   "pygments_lexer": "ipython3",
   "version": "3.11.4"
  }
 },
 "nbformat": 4,
 "nbformat_minor": 5
}
